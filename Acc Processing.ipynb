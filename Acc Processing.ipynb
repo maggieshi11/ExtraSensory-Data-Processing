{
 "cells": [
  {
   "cell_type": "code",
   "execution_count": 5,
   "metadata": {},
   "outputs": [],
   "source": [
    "import numpy as np\n",
    "import pandas as pd\n",
    "import os, re\n",
    "from collections import Counter\n",
    "import matplotlib.pyplot as plt"
   ]
  },
  {
   "cell_type": "code",
   "execution_count": 6,
   "metadata": {},
   "outputs": [],
   "source": [
    "%matplotlib inline"
   ]
  },
  {
   "cell_type": "code",
   "execution_count": 19,
   "metadata": {},
   "outputs": [
    {
     "name": "stdout",
     "output_type": "stream",
     "text": [
      "(22.0, 438747)\n",
      "(20.0, 1194076)\n",
      "(20.0, 1707783)\n",
      "(33.0, 2376601)\n",
      "(30.0, 3172064)\n",
      "(30.0, 1749013)\n",
      "(30.0, 2349699)\n",
      "(20.0, 3472476)\n",
      "(30.0, 8174414)\n",
      "(33.0, 937365)\n",
      "(20.0, 5611974)\n",
      "(20.0, 3307389)\n",
      "(30.0, 4317380)\n",
      "(20.0, 2522810)\n",
      "(29.0, 1971119)\n",
      "(20.0, 4840389)\n",
      "(20.0, 3636560)\n",
      "(30.0, 4368837)\n",
      "(29.0, 6861098)\n",
      "(29.0, 6607198)\n",
      "(29.0, 1813539)\n",
      "(20.0, 4537321)\n",
      "(20.0, 2600790)\n",
      "(29.0, 7039994)\n",
      "(30.0, 3781365)\n",
      "(33.0, 1722111)\n",
      "(29.0, 6633181)\n",
      "(20.0, 2585076)\n",
      "(20.0, 1719993)\n",
      "(30.0, 4458089)\n",
      "(29.0, 5768327)\n",
      "(29.0, 3312467)\n",
      "(20.0, 721665)\n",
      "(30.0, 2450969)\n",
      "(30.0, 4242745)\n",
      "(30.0, 3530490)\n",
      "(20.0, 4114613)\n",
      "(30.0, 2994286)\n",
      "(20.0, 2131420)\n",
      "(20.0, 4906914)\n",
      "(30.0, 6802428)\n",
      "(30.0, 5624865)\n",
      "(30.0, 6148952)\n",
      "(30.0, 4230321)\n",
      "(29.0, 4897067)\n",
      "(20.0, 1608302)\n",
      "(30.0, 5419940)\n",
      "(29.0, 1533884)\n",
      "(30.0, 6851786)\n",
      "(29.0, 1191086)\n",
      "(20.0, 6469044)\n",
      "(20.0, 2631656)\n",
      "(29.0, 3769194)\n",
      "(20.0, 3930489)\n",
      "(20.0, 3436524)\n",
      "(20.0, 7066898)\n",
      "(20.0, 327445)\n",
      "(29.0, 3709565)\n",
      "(30.0, 1111935)\n",
      "(20.0, 3399474)\n"
     ]
    }
   ],
   "source": [
    "acc_dir = 'raw_acc'\n",
    "\n",
    "for dir_name in os.listdir(acc_dir):\n",
    "    df = []\n",
    "    if dir_name == '.DS_Store':\n",
    "        continue\n",
    "    for file in os.listdir(os.path.join(acc_dir, dir_name)):\n",
    "        if file == '.DS_Store':\n",
    "            continue\n",
    "        data = pd.DataFrame(pd.read_csv(os.path.join(acc_dir, dir_name, file), delimiter = ' ', names = ['milliseconds', 'acc_x', 'acc_y', 'acc_z']))\n",
    "        data['milliseconds'] = data['milliseconds'].apply(lambda x: (x - data['milliseconds'][0])*1000)\n",
    "        base = os.path.basename(file)\n",
    "        tstamp = np.int(base[:base.index('.')]) #finds index of first '.' and extracts everything before it (timestamp)\n",
    "        data.insert(0, 'timestamp', tstamp)\n",
    "        data['milliseconds'] = data['milliseconds'].apply(lambda x: x + int(tstamp) * 1000)\n",
    "        df.append(data)\n",
    "    acc_data = pd.concat(df)\n",
    "    acc_data = acc_data.sort_values(by=['milliseconds'])\n",
    "    dist = Counter(np.round(acc_data['milliseconds'].diff()))\n",
    "#     plt.figure(figsize=(9,3))\n",
    "#     plt.bar(dist.keys(), dist.values())\n",
    "#     plt.title(dir_name)\n",
    "#     plt.show()\n",
    "    print(dist.most_common(1)[0])        "
   ]
  },
  {
   "cell_type": "code",
   "execution_count": null,
   "metadata": {},
   "outputs": [],
   "source": []
  },
  {
   "cell_type": "code",
   "execution_count": null,
   "metadata": {},
   "outputs": [],
   "source": []
  }
 ],
 "metadata": {
  "kernelspec": {
   "display_name": "Python 3",
   "language": "python",
   "name": "python3"
  },
  "language_info": {
   "codemirror_mode": {
    "name": "ipython",
    "version": 3
   },
   "file_extension": ".py",
   "mimetype": "text/x-python",
   "name": "python",
   "nbconvert_exporter": "python",
   "pygments_lexer": "ipython3",
   "version": "3.6.8"
  }
 },
 "nbformat": 4,
 "nbformat_minor": 2
}
