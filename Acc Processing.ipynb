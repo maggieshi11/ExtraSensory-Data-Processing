{
 "cells": [
  {
   "cell_type": "code",
   "execution_count": 31,
   "metadata": {},
   "outputs": [],
   "source": [
    "import numpy as np\n",
    "import pandas as pd\n",
    "import os, re\n",
    "from collections import Counter\n",
    "import matplotlib.pyplot as plt\n",
    "%matplotlib inline"
   ]
  },
  {
   "cell_type": "code",
   "execution_count": null,
   "metadata": {},
   "outputs": [],
   "source": [
    "acc_dir = 'raw_acc'\n",
    "df = []\n",
    "\n",
    "for dir_name in os.listdir(acc_dir):\n",
    "    for file in os.listdir(os.path.join(acc_dir, dir_name)):\n",
    "        data = pd.DataFrame(pd.read_csv(os.path.join(acc_dir, dir_name, file), delimiter = ' ', names = ['milliseconds', 'acc_x', 'acc_y', 'acc_z']))\n",
    "        data['milliseconds'] = data['milliseconds'].apply(lambda x: (x - data['milliseconds'][0])*1000)\n",
    "        base = os.path.basename(file)\n",
    "        if re.search(\"\\d\", base) == None: # maybe change to .dat\n",
    "            continue\n",
    "        tstamp = np.int(base[:base.index('.')]) #finds index of first '.' and extracts everything before it (timestamp)\n",
    "        data.insert(0, 'timestamp', tstamp)\n",
    "        data['milliseconds'] = data['milliseconds'].apply(lambda x: x + int(tstamp) * 1000)\n",
    "        df.append(data)\n",
    "    acc_data = pd.concat(df)\n",
    "    acc_data = acc_data.sort_values(by=['milliseconds'])\n",
    "    dist = Counter(np.round(acc_data['milliseconds'].diff()))\n",
    "    plt.bar(dist.keys(), dist.values())\n",
    "    plt.title(dir_name)\n",
    "    plt.show()\n",
    "    print(dist.most_common(1)[0])        "
   ]
  },
  {
   "cell_type": "code",
   "execution_count": null,
   "metadata": {},
   "outputs": [],
   "source": []
  },
  {
   "cell_type": "code",
   "execution_count": null,
   "metadata": {},
   "outputs": [],
   "source": []
  }
 ],
 "metadata": {
  "kernelspec": {
   "display_name": "Python 3",
   "language": "python",
   "name": "python3"
  },
  "language_info": {
   "codemirror_mode": {
    "name": "ipython",
    "version": 3
   },
   "file_extension": ".py",
   "mimetype": "text/x-python",
   "name": "python",
   "nbconvert_exporter": "python",
   "pygments_lexer": "ipython3",
   "version": "3.6.8"
  }
 },
 "nbformat": 4,
 "nbformat_minor": 2
}
